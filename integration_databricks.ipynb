{
 "cells": [
  {
   "cell_type": "markdown",
   "metadata": {
    "application/vnd.databricks.v1+cell": {
     "cellMetadata": {},
     "inputWidgets": {},
     "nuid": "a2b2dda4-975c-4d55-9c3a-586cf644bb1a",
     "showTitle": false,
     "tableResultSettingsMap": {},
     "title": ""
    }
   },
   "source": [
    "# Langfuseを使用したDatabricksモデルの可観測性\n",
    "\n",
    "Databricksは、大規模な言語モデルをホスティングおよび提供するための強力なプラットフォームを提供します。Databricksの提供エンドポイントと**Langfuse**を組み合わせることで、開発および本番環境でAIワークロードをトレース、監視、および分析できます。\n",
    "\n",
    "このノートブックでは、Langfuseを使用してDatabricksモデルを使用する**3つ**の異なる方法を示します：\n",
    "1. **OpenAI SDK:** OpenAI SDKを介してDatabricksモデルエンドポイントを使用します。\n",
    "2. **LangChain:** LangChainパイプラインでDatabricks LLMインターフェースと統合します。\n",
    "3. **LlamaIndex:** LlamaIndex内でDatabricksエンドポイントを使用します。\n",
    "\n",
    "> **Databricks Model Servingとは？**  \n",
    "Databricks Model Servingは、大規模なモデルを本番環境で提供するための自動スケーリングと堅牢なインフラストラクチャを備えています。また、プライベートデータでLLMを微調整することも可能で、データプライバシーを維持しながら独自の情報を活用できます。\n",
    "\n",
    "> **Langfuseとは？**  \n",
    "[Langfuse](https://langfuse.com)は、LLMの可観測性と監視のためのオープンソースプラットフォームです。メタデータ、プロンプトの詳細、トークン使用量、レイテンシーなどをキャプチャすることで、AIアプリケーションをトレースおよび監視するのに役立ちます。"
   ]
  },
  {
   "cell_type": "markdown",
   "metadata": {
    "application/vnd.databricks.v1+cell": {
     "cellMetadata": {},
     "inputWidgets": {},
     "nuid": "16db503e-d9f9-4e4d-9529-14b8a22638d5",
     "showTitle": false,
     "tableResultSettingsMap": {},
     "title": ""
    }
   },
   "source": [
    "## 1. 依存関係のインストール\n",
    "\n",
    "始める前に、Python環境に必要なパッケージをインストールします：\n",
    "\n",
    "- **openai**: OpenAI SDKを介してDatabricksエンドポイントを呼び出すために必要です。\n",
    "- **databricks-langchain**: \"OpenAIのような\"インターフェースを介してDatabricksエンドポイントを呼び出すために必要です。\n",
    "- **llama-index** および **llama-index-llms-databricks**: LlamaIndex内でDatabricksエンドポイントを使用するために必要です。\n",
    "- **langfuse**: Langfuseプラットフォームにトレースデータを送信するために必要です。"
   ]
  },
  {
   "cell_type": "code",
   "execution_count": 0,
   "metadata": {
    "application/vnd.databricks.v1+cell": {
     "cellMetadata": {
      "byteLimit": 2048000,
      "rowLimit": 10000
     },
     "inputWidgets": {},
     "nuid": "ecc84d4f-4763-446e-9926-1ce72fb1c749",
     "showTitle": false,
     "tableResultSettingsMap": {},
     "title": ""
    }
   },
   "outputs": [],
   "source": [
    "%pip install openai langfuse databricks-langchain llama-index llama-index-llms-databricks\n",
    "%restart_python"
   ]
  },
  {
   "cell_type": "markdown",
   "metadata": {
    "application/vnd.databricks.v1+cell": {
     "cellMetadata": {},
     "inputWidgets": {},
     "nuid": "c6256a50-53d9-4ba2-a7ce-3f2131679874",
     "showTitle": false,
     "tableResultSettingsMap": {},
     "title": ""
    }
   },
   "source": [
    "## 2. 環境変数の設定\n",
    "\n",
    "**Langfuse**のクレデンシャルと**Databricks**のクレデンシャルを環境変数として設定します。以下のダミーキーをそれぞれのアカウントから取得した実際のキーに置き換えてください。\n",
    "\n",
    " - `LANGFUSE_PUBLIC_KEY` / `LANGFUSE_SECRET_KEY`: Langfuseプロジェクト設定から取得します。\n",
    " - `LANGFUSE_HOST`: `https://cloud.langfuse.com`（EUリージョン）または `https://us.cloud.langfuse.com`（USリージョン）。\n",
    " - `DATABRICKS_TOKEN`: Databricksのパーソナルアクセストークン。\n",
    " - `DATABRICKS_HOST`: DatabricksワークスペースのURL（例：`https://dbc-xxxxxxx.cloud.databricks.com`）。"
   ]
  },
  {
   "cell_type": "code",
   "execution_count": 0,
   "metadata": {
    "application/vnd.databricks.v1+cell": {
     "cellMetadata": {
      "byteLimit": 2048000,
      "rowLimit": 10000
     },
     "inputWidgets": {},
     "nuid": "13af7936-e904-4d43-856c-3d2d45763952",
     "showTitle": false,
     "tableResultSettingsMap": {},
     "title": ""
    }
   },
   "outputs": [],
   "source": [
    "import os\n",
    "\n",
    "# 環境変数の例（実際のキー/トークンに置き換えてください）\n",
    "os.environ[\"LANGFUSE_PUBLIC_KEY\"] = \"pk-lf-...\"  # あなたのパブリックキー\n",
    "os.environ[\"LANGFUSE_SECRET_KEY\"] = \"sk-lf-...\"  # あなたのシークレットキー\n",
    "os.environ[\"LANGFUSE_HOST\"] = \"https://cloud.langfuse.com\"  # または https://us.cloud.langfuse.com\n",
    "\n",
    "os.environ[\"DATABRICKS_TOKEN\"] = \"dapi...\"  # Databricks パーソナルアクセストークン\n",
    "os.environ[\"DATABRICKS_HOST\"] = \"https://....cloud.databricks.com/\""
   ]
  },
  {
   "cell_type": "markdown",
   "metadata": {
    "application/vnd.databricks.v1+cell": {
     "cellMetadata": {},
     "inputWidgets": {},
     "nuid": "236ffde7-9117-45c3-9f10-3724e29e0d78",
     "showTitle": false,
     "tableResultSettingsMap": {},
     "title": ""
    }
   },
   "source": [
    "## アプローチ1: OpenAI SDKを介したDatabricksモデルの使用\n",
    "\n",
    "Databricksエンドポイントは、OpenAI APIの代替として機能できます。これにより、`openai`ライブラリに依存する既存のコードと簡単に統合できます。内部では、`langfuse.openai.OpenAI`がリクエストを自動的にLangfuseにトレースします。\n",
    "\n",
    "### 手順\n",
    "1. `langfuse.openai`から`OpenAI`クライアントをインポートします。\n",
    "2. クライアントを作成し、`api_key`にDatabricksトークンを、`base_url`にDatabricksワークスペースエンドポイントを設定します。\n",
    "3. クライアントの`chat.completions.create()`メソッドを使用してプロンプトを送信します。\n",
    "4. Langfuseダッシュボードでトレースを確認します。\n",
    "\n",
    "**注:** Langfuseを使用したOpenAIのトレースに関する詳細な例については、[OpenAI統合ドキュメント](https://langfuse.com/docs/integrations/openai/python/get-started)を参照してください。"
   ]
  },
  {
   "cell_type": "code",
   "execution_count": 0,
   "metadata": {
    "application/vnd.databricks.v1+cell": {
     "cellMetadata": {
      "byteLimit": 2048000,
      "rowLimit": 10000
     },
     "inputWidgets": {},
     "nuid": "aad42be9-5883-4753-bce2-323000e20e98",
     "showTitle": false,
     "tableResultSettingsMap": {},
     "title": ""
    }
   },
   "outputs": [],
   "source": [
    "# Langfuse OpenAI クライアント\n",
    "from langfuse.openai import OpenAI\n",
    "\n",
    "# 環境変数を取得\n",
    "databricks_token = os.environ.get(\"DATABRICKS_TOKEN\")\n",
    "databricks_host = os.environ.get(\"DATABRICKS_HOST\")\n",
    "\n",
    "# Databricks を指す OpenAI ライクなクライアントを作成\n",
    "client = OpenAI(\n",
    "    api_key=databricks_token,  # Databricks パーソナルアクセストークン\n",
    "    base_url=f\"{databricks_host}/serving-endpoints\",  # あなたの Databricks ワークスペース\n",
    ")"
   ]
  },
  {
   "cell_type": "code",
   "execution_count": 0,
   "metadata": {
    "application/vnd.databricks.v1+cell": {
     "cellMetadata": {
      "byteLimit": 2048000,
      "rowLimit": 10000
     },
     "inputWidgets": {},
     "nuid": "d341d08e-0981-4a4b-b1e7-e3515da1c94c",
     "showTitle": false,
     "tableResultSettingsMap": {},
     "title": ""
    }
   },
   "outputs": [],
   "source": [
    "response = client.chat.completions.create(\n",
    "    messages=[\n",
    "        {\"role\": \"system\", \"content\": \"あなたはAIアシスタントです。\"},\n",
    "        {\"role\": \"user\", \"content\": \"Databricksとは何ですか？\"}\n",
    "    ],\n",
    "    model=\"databricks-meta-llama-3-3-70b-instruct\",  # Databricksモデルサービングエンドポイント名に基づいて調整\n",
    "    max_tokens=256\n",
    ")\n",
    "\n",
    "# モデルからの応答を表示\n",
    "display(response.choices[0].message.content)"
   ]
  },
  {
   "cell_type": "markdown",
   "metadata": {
    "application/vnd.databricks.v1+cell": {
     "cellMetadata": {},
     "inputWidgets": {},
     "nuid": "07ede69b-3350-4354-9538-f13392050a20",
     "showTitle": false,
     "tableResultSettingsMap": {},
     "title": ""
    }
   },
   "source": [
    "リクエストが完了したら、**Langfuseダッシュボードにログイン**して新しいトレースを探します。プロンプト、応答、レイテンシ、トークン使用量などの詳細が表示されます。\n",
    "\n",
    "![LangfuseのDatabricks例のトレース](https://raw.githubusercontent.com/images/docs/databricks/databricks-example-trace-openai-sdk.png)\n",
    "\n",
    "_[Langfuseの公開トレースへのリンク](https://cloud.langfuse.com/project/cloramnkj0002jz088vzn1ja4/traces/029b2344-e2a2-4c52-8d04-bd71f70c1120?timestamp=2025-03-06T14%3A45%3A04.141Z)_"
   ]
  },
  {
   "cell_type": "markdown",
   "metadata": {
    "application/vnd.databricks.v1+cell": {
     "cellMetadata": {},
     "inputWidgets": {},
     "nuid": "2b9b41af-0586-4fa4-ae9f-832d7325001d",
     "showTitle": false,
     "tableResultSettingsMap": {},
     "title": ""
    }
   },
   "source": [
    "## アプローチ2: LangChainの使用\n",
    "\n",
    "DatabricksモデルはLangChainを介しても使用できます。[`ChatDatabricks`](https://python.langchain.com/docs/integrations/chat/databricks/)クラスは、Databricksのモデルサービングエンドポイントをラップします。\n",
    "\n",
    "### 手順\n",
    "1. 環境変数として`DATABRICKS_HOST`を設定します。\n",
    "2. トレースデータを自動的に収集するLangfuseの`CallbackHandler`を初期化します。\n",
    "3. エンドポイント名、温度、その他のパラメータを使用して`ChatDatabricks`を使用します。\n",
    "4. メッセージでモデルを呼び出し、Langfuseのコールバックハンドラーを渡します。\n",
    "5. Langfuseダッシュボードでトレースを確認します。\n",
    "\n",
    "**注:** Langfuseを使用したLangChainのトレースに関する詳細な例については、[LangChain統合ドキュメント](https://langfuse.com/docs/integrations/langchain/tracing)を参照してください。"
   ]
  },
  {
   "cell_type": "code",
   "execution_count": 0,
   "metadata": {
    "application/vnd.databricks.v1+cell": {
     "cellMetadata": {
      "byteLimit": 2048000,
      "rowLimit": 10000
     },
     "inputWidgets": {},
     "nuid": "70311efa-721b-4628-8df9-fe46f05439f8",
     "showTitle": false,
     "tableResultSettingsMap": {},
     "title": ""
    }
   },
   "outputs": [],
   "source": [
    "from langfuse.callback import CallbackHandler\n",
    "\n",
    "# Langfuseコールバックハンドラーを初期化\n",
    "langfuse_handler = CallbackHandler(\n",
    "    secret_key=os.environ.get(\"LANGFUSE_SECRET_KEY\"),\n",
    "    public_key=os.environ.get(\"LANGFUSE_PUBLIC_KEY\"),\n",
    "    host=os.environ.get(\"LANGFUSE_HOST\")\n",
    ")"
   ]
  },
  {
   "cell_type": "code",
   "execution_count": 0,
   "metadata": {
    "application/vnd.databricks.v1+cell": {
     "cellMetadata": {
      "byteLimit": 2048000,
      "rowLimit": 10000
     },
     "inputWidgets": {},
     "nuid": "99381420-439c-4ee1-bfec-13fd700cc1b6",
     "showTitle": false,
     "tableResultSettingsMap": {},
     "title": ""
    }
   },
   "outputs": [],
   "source": [
    "from databricks_langchain import ChatDatabricks\n",
    "\n",
    "chat_model = ChatDatabricks(\n",
    "    endpoint=\"databricks-meta-llama-3-3-70b-instruct\",   # Databricksモデルサービングエンドポイント名\n",
    "    temperature=0.1,\n",
    "    max_tokens=256,\n",
    "    # 他のパラメータをここに追加できます\n",
    ")\n",
    "\n",
    "# プロンプトをシステム/ユーザーメッセージのリストとして構築\n",
    "messages = [\n",
    "    (\"system\", \"あなたはDatabricksに関する質問に答えることができるチャットボットです。\"),\n",
    "    (\"user\", \"Databricks Model Servingとは何ですか？\")\n",
    "]\n",
    "\n",
    "# LangChainの.invoke()メソッドを使用してモデルを呼び出す\n",
    "chat_model.invoke(messages, config={\"callbacks\": [langfuse_handler]})"
   ]
  },
  {
   "cell_type": "markdown",
   "metadata": {
    "application/vnd.databricks.v1+cell": {
     "cellMetadata": {},
     "inputWidgets": {},
     "nuid": "a54bfbca-efa8-496c-9f20-5f6d1fbe5976",
     "showTitle": false,
     "tableResultSettingsMap": {},
     "title": ""
    }
   },
   "source": [
    "コードを実行した後、Langfuseダッシュボードを開いて記録された会話を確認します。\n",
    "\n",
    "![LangfuseのDatabricks例のトレース](https://langfuse.com/images/docs/databricks/databricks-example-trace-langchain.png)\n",
    "\n",
    "_[Langfuseの公開トレースへのリンク](https://cloud.langfuse.com/project/cloramnkj0002jz088vzn1ja4/traces/a55411bb-4bb4-435c-b922-e446683888ff?timestamp=2025-03-06T14%3A57%3A59.273Z)_"
   ]
  },
  {
   "cell_type": "markdown",
   "metadata": {
    "application/vnd.databricks.v1+cell": {
     "cellMetadata": {},
     "inputWidgets": {},
     "nuid": "828e78df-0ca2-4387-9ade-f1acaf4c8095",
     "showTitle": false,
     "tableResultSettingsMap": {},
     "title": ""
    }
   },
   "source": [
    "## アプローチ3: LlamaIndexの使用\n",
    "\n",
    "データの取り込み、インデックス作成、またはRAGに[LlamaIndex](https://github.com/jerryjliu/llama_index)を使用する場合、デフォルトのLLMをDatabricksエンドポイントに置き換えることができます。\n",
    "\n",
    "### 手順\n",
    "1. `llama_index.llms.databricks`から`Databricks`をインポートします。\n",
    "2. エンドポイント名とDatabricksの認証情報を使用して`Databricks` LLMを初期化します。\n",
    "3. `langfuse.llama_index`から`LlamaIndexInstrumentor`を使用して自動トレースを有効にします。\n",
    "4. チャットリクエストでLLMを呼び出します。\n",
    "5. Langfuseダッシュボードでトレースを確認します。\n",
    "\n",
    "**注:** Langfuseを使用したLlamaIndexのトレースに関する詳細な例については、[LlamaIndex統合ドキュメント](https://langfuse.com/docs/integrations/llama-index/get-started)を参照してください。"
   ]
  },
  {
   "cell_type": "code",
   "execution_count": 0,
   "metadata": {
    "application/vnd.databricks.v1+cell": {
     "cellMetadata": {
      "byteLimit": 2048000,
      "rowLimit": 10000
     },
     "inputWidgets": {},
     "nuid": "d515678f-496d-4a9a-8a47-4ad93e560e1b",
     "showTitle": false,
     "tableResultSettingsMap": {},
     "title": ""
    }
   },
   "outputs": [],
   "source": [
    "from llama_index.llms.databricks import Databricks\n",
    "\n",
    "# Databricks LLMインスタンスを作成\n",
    "llm = Databricks(\n",
    "    model=\"databricks-meta-llama-3-3-70b-instruct\",  # Databricksモデルサービングエンドポイント名\n",
    "    api_key=os.environ.get(\"DATABRICKS_TOKEN\"),\n",
    "    api_base=f\"{os.environ.get('DATABRICKS_HOST')}/serving-endpoints/\"\n",
    ")"
   ]
  },
  {
   "cell_type": "code",
   "execution_count": 0,
   "metadata": {
    "application/vnd.databricks.v1+cell": {
     "cellMetadata": {
      "byteLimit": 2048000,
      "rowLimit": 10000
     },
     "inputWidgets": {},
     "nuid": "f02b21ef-e05b-4f4f-863b-ceb78950ddaf",
     "showTitle": false,
     "tableResultSettingsMap": {},
     "title": ""
    }
   },
   "outputs": [],
   "source": [
    "from langfuse.llama_index import LlamaIndexInstrumentor\n",
    "from llama_index.core.llms import ChatMessage\n",
    "\n",
    "# LlamaIndexの操作をトレースするためにLlamaIndexInstrumentorを初期化\n",
    "instrumentor = LlamaIndexInstrumentor(\n",
    "    secret_key=os.environ.get(\"LANGFUSE_SECRET_KEY\"),\n",
    "    public_key=os.environ.get(\"LANGFUSE_PUBLIC_KEY\"),\n",
    "    host=os.environ.get(\"LANGFUSE_HOST\")\n",
    ")\n",
    "\n",
    "# 自動トレースを開始\n",
    "instrumentor.start()"
   ]
  },
  {
   "cell_type": "code",
   "execution_count": 0,
   "metadata": {
    "application/vnd.databricks.v1+cell": {
     "cellMetadata": {
      "byteLimit": 2048000,
      "rowLimit": 10000
     },
     "inputWidgets": {},
     "nuid": "8c9afd1d-0364-453b-a594-3d4b85a64d57",
     "showTitle": false,
     "tableResultSettingsMap": {},
     "title": ""
    }
   },
   "outputs": [],
   "source": [
    "messages = [\n",
    "    ChatMessage(role=\"system\", content=\"あなたは役に立つアシスタントです。\"),\n",
    "    ChatMessage(role=\"user\", content=\"Databricksとは何ですか？\")\n",
    "]\n",
    "\n",
    "response = llm.chat(messages)\n",
    "display(response)\n",
    "\n",
    "# Flush any pending events to Langfuse\n",
    "instrumentor.flush()"
   ]
  },
  {
   "cell_type": "markdown",
   "metadata": {
    "application/vnd.databricks.v1+cell": {
     "cellMetadata": {},
     "inputWidgets": {},
     "nuid": "07650584-cc00-483b-ab82-923c82cf7ca5",
     "showTitle": false,
     "tableResultSettingsMap": {},
     "title": ""
    }
   },
   "source": [
    "LlamaIndexの呼び出しを確認するためにLangfuseにログインし、プロンプト、トークン使用量、完了データなどの詳細を確認できます。\n",
    "\n",
    "![LangfuseでのDatabricksのLlamaIndexトレース例](https://langfuse.com/images/docs/databricks/databricks-example-llamaindex-trace.png)\n",
    "\n",
    "_[Langfuseの公開トレースへのリンク](https://cloud.langfuse.com/project/cloramnkj0002jz088vzn1ja4/traces/589a858e-9678-4624-bcb6-2e0266ecb1b3?timestamp=2025-03-06T15%3A10%3A02.467Z&observation=dd7b6235-6c92-4c9b-a966-872bc281c060)_"
   ]
  },
  {
   "cell_type": "markdown",
   "metadata": {
    "application/vnd.databricks.v1+cell": {
     "cellMetadata": {},
     "inputWidgets": {},
     "nuid": "45c1bfac-aa92-4a4d-b6f2-5cb928442eef",
     "showTitle": false,
     "tableResultSettingsMap": {},
     "title": ""
    }
   },
   "source": [
    "## トレースの強化 (オプション)\n",
    "\n",
    "Langfuseは、より豊富なトレースデータのための追加機能をサポートしています:\n",
    "\n",
    "- トレースに[メタデータ](https://langfuse.com/docs/tracing-features/metadata)、[タグ](https://langfuse.com/docs/tracing-features/tags)、[ログレベル](https://langfuse.com/docs/tracing-features/log-levels)、および[ユーザーID](https://langfuse.com/docs/tracing-features/users)を追加\n",
    "- トレースを[セッション](https://langfuse.com/docs/tracing-features/sessions)でグループ化\n",
    "- 追加のアプリケーションロジックをトレースするための[`@observe()`デコレータ](https://langfuse.com/docs/sdk/python/decorators)\n",
    "- [Langfuseプロンプト管理](https://langfuse.com/docs/prompts/get-started)を使用し、プロンプトをトレースにリンク\n",
    "- トレースに[スコア](https://langfuse.com/docs/scores/custom)を追加\n",
    "\n",
    "詳細については、[Langfuseのドキュメント](https://langfuse.com/docs)を参照してください。"
   ]
  },
  {
   "cell_type": "markdown",
   "metadata": {
    "application/vnd.databricks.v1+cell": {
     "cellMetadata": {},
     "inputWidgets": {},
     "nuid": "dc77579f-decd-465b-a96b-b6d54b007b79",
     "showTitle": false,
     "tableResultSettingsMap": {},
     "title": ""
    }
   },
   "source": [
    "## 次のステップ\n",
    "- Langfuse PlaygroundでDatabricksモデルを使用する方法やLLM-as-a-Judge評価については[こちら](https://langfuse.com/docs/integrations/databricks/use-with-playground-and-evals.mdx)をご覧ください。\n",
    "- 高度なモデルサービング構成については[Databricksのドキュメント](https://docs.databricks.com/aws/ja/machine-learning/model-serving/manage-serving-endpoints)を参照してください。\n",
    "- アプリケーション全体のフローを追跡するための[Langfuseトレース機能](https://langfuse.com/docs)について学びましょう。\n",
    "- Langfuseの[プロンプト管理](https://langfuse.com/docs/prompts/get-started)を試すか、[LLM-as-a-Judge評価](https://langfuse.com/docs/scores/model-based-evals)を設定してみましょう。"
   ]
  }
 ],
 "metadata": {
  "application/vnd.databricks.v1+notebook": {
   "computePreferences": null,
   "dashboards": [],
   "environmentMetadata": null,
   "language": "python",
   "notebookMetadata": {
    "pythonIndentUnit": 2
   },
   "notebookName": "integration_databricks",
   "widgets": {}
  },
  "kernelspec": {
   "display_name": "Python 3",
   "language": "python",
   "name": "python3"
  },
  "language_info": {
   "name": "python"
  }
 },
 "nbformat": 4,
 "nbformat_minor": 0
}
